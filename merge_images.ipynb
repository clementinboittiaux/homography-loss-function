{
 "cells": [
  {
   "cell_type": "code",
   "execution_count": null,
   "id": "ab561ca9-03aa-420c-9f22-e65052f59101",
   "metadata": {},
   "outputs": [],
   "source": [
    "import os\n",
    "import numpy as np\n",
    "from PIL import Image\n",
    "from PIL import ImageFont\n",
    "from PIL import ImageDraw"
   ]
  },
  {
   "cell_type": "code",
   "execution_count": null,
   "id": "e809fb77-fddd-4fee-9836-f76ed76bf9d1",
   "metadata": {},
   "outputs": [],
   "source": [
    "gt = Image.open('/home/clementin/Documents/bmvc2021/camera_gt.png')\n",
    "es = Image.open('/home/clementin/Documents/bmvc2021/camera_posenet.png')\n",
    "gt = gt.resize(tuple(map(lambda x: int(x * 0.7), gt.size)))\n",
    "es = es.resize(tuple(map(lambda x: int(x * 0.7), es.size)))\n",
    "n_im = max([int(im.split('.')[0]) for im in os.listdir('im')]) + 1\n",
    "title_font = ImageFont.truetype('/home/clementin/anaconda3/envs/homographyloss/lib/python3.9/site-packages/matplotlib/mpl-data/fonts/ttf/DejaVuSans.ttf', 24)\n",
    "font = ImageFont.truetype('/home/clementin/anaconda3/envs/homographyloss/lib/python3.9/site-packages/matplotlib/mpl-data/fonts/ttf/DejaVuSans.ttf', 16)\n",
    "h_offset = 150\n",
    "w_offset = 150\n",
    "\n",
    "for i in range(n_im):\n",
    "    s = np.array(Image.open(f's/{i:05d}.png'))\n",
    "    im = np.array(Image.open(f'im/{i:05d}.png'))\n",
    "    h, w, _ = s.shape\n",
    "    im[h_offset:h_offset+h, w_offset:w_offset+w] = s[:, :, :3]\n",
    "    im = Image.fromarray(im)\n",
    "    draw = ImageDraw.Draw(im)\n",
    "    draw.text((825, 40), 'Homography loss', (0, 0, 0), font=title_font)\n",
    "    im.paste(gt, (1700, 20), gt)\n",
    "    im.paste(es, (1700, 90), es)\n",
    "    draw.text((1600, 45), 'Ground-truth', (0, 180, 0), font=font)\n",
    "    draw.text((1600, 115), 'Estimated', (180, 0, 0), font=font)\n",
    "    im.save(f'anim/{i:05d}.png')"
   ]
  },
  {
   "cell_type": "code",
   "execution_count": null,
   "id": "e9cdb515-94c3-47c7-aa78-cdd91ebcba2e",
   "metadata": {},
   "outputs": [],
   "source": []
  }
 ],
 "metadata": {
  "kernelspec": {
   "display_name": "Python 3 (ipykernel)",
   "language": "python",
   "name": "python3"
  },
  "language_info": {
   "codemirror_mode": {
    "name": "ipython",
    "version": 3
   },
   "file_extension": ".py",
   "mimetype": "text/x-python",
   "name": "python",
   "nbconvert_exporter": "python",
   "pygments_lexer": "ipython3",
   "version": "3.9.7"
  }
 },
 "nbformat": 4,
 "nbformat_minor": 5
}
